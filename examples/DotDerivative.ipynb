{
 "cells": [
  {
   "cell_type": "code",
   "execution_count": 1,
   "id": "31130825-98c9-48c6-825a-683d5e23706e",
   "metadata": {},
   "outputs": [
    {
     "name": "stdout",
     "output_type": "stream",
     "text": [
      "delta_chempots [-51.92141503 -72.21540615]\n",
      "delta_statevars [0. 0. 1.]\n",
      "delta_phase_amounts [6.93117183e-21]\n",
      "delta_sitefracs [-1.61908561e-04  1.61908561e-04  1.61908561e-04 -1.61908561e-04\n",
      "  1.24143851e-20]\n",
      "Dot Derivative 36.64854055395234\n",
      "Naive Derivative 34.164547639869525\n"
     ]
    }
   ],
   "source": [
    "from pycalphad import Database, Model, variables as v\n",
    "from pycalphad.core.solver import Solver\n",
    "from pycalphad.codegen.callables import build_phase_records\n",
    "from pycalphad.core.utils import instantiate_models\n",
    "from pycalphad.codegen.sympydiff_utils import build_functions\n",
    "from pycalphad.core.composition_set import CompositionSet\n",
    "from pycalphad.core.minimizer import state_variable_differential, site_fraction_differential\n",
    "import numpy as np\n",
    "dbf = Database('alfe_sei.TDB')\n",
    "comps = ['AL', 'FE', 'VA']\n",
    "mod = Model(dbf, comps, 'B2_BCC')\n",
    "starting_temp = float(1000)\n",
    "state_variables = {v.N, v.P, v.T}\n",
    "models = instantiate_models(dbf, comps, ['B2_BCC'])\n",
    "phase_records = build_phase_records(dbf, comps, ['B2_BCC'], state_variables, models)\n",
    "compset = CompositionSet(phase_records['B2_BCC'])\n",
    "compset.update(np.array([0.56819794, 0.43180206, 0.03180206, 0.96819794, 1]), 1.0, np.array([1, 1e5, starting_temp]))\n",
    "compsets = [compset]\n",
    "solver = Solver()\n",
    "spec = solver.get_system_spec(compsets, {'N': 1, 'T': starting_temp, 'P': 1e5, 'X_AL': 0.3})\n",
    "state = spec.get_new_state(compsets)\n",
    "converged = spec.run_loop(state, 1000)\n",
    "if converged:\n",
    "    # TODO: Check example in https://github.com/pycalphad/pycalphad/issues/261\n",
    "    property_of_interest = 'HM'\n",
    "    statevar_of_interest = v.T\n",
    "    statevar_idx = sorted(state_variables, key=str).index(statevar_of_interest)\n",
    "    delta_chemical_potentials, delta_statevars, delta_phase_amounts = \\\n",
    "    state_variable_differential(spec, state, statevar_idx)\n",
    "    print('delta_chempots', delta_chemical_potentials)\n",
    "    print('delta_statevars', delta_statevars)\n",
    "    print('delta_phase_amounts', delta_phase_amounts)\n",
    "    property_records = {}\n",
    "    unique_phases = sorted(set(compset.phase_record.phase_name for compset in compsets))\n",
    "    for phase_name in unique_phases:\n",
    "        property_records[phase_name] = build_functions(getattr(models[phase_name], property_of_interest),\n",
    "                                        sorted(state_variables, key=str) + models[phase_name].site_fractions,\n",
    "                                        include_grad=True)\n",
    "    # Sundman et al, 2015, Eq. 73\n",
    "    dot_derivative = 0.0\n",
    "    naive_derivative = 0.0\n",
    "    for idx, compset in enumerate(compsets):\n",
    "        phase_name = compset.phase_record.phase_name\n",
    "        proprecord = property_records[phase_name]\n",
    "        func_value, grad_value = proprecord.func(compset.dof), proprecord.grad(compset.dof)\n",
    "        delta_sitefracs = site_fraction_differential(state.cs_states[idx], delta_chemical_potentials,\n",
    "                                                     delta_statevars)\n",
    "       \n",
    "        print('delta_sitefracs', delta_sitefracs)\n",
    "        dot_derivative += delta_phase_amounts[idx] * func_value\n",
    "        dot_derivative += compset.NP * grad_value[statevar_idx] * delta_statevars[statevar_idx]\n",
    "        naive_derivative += compset.NP * grad_value[statevar_idx] * delta_statevars[statevar_idx]\n",
    "        dot_derivative += compset.NP * np.dot(delta_sitefracs, grad_value[len(state_variables):])\n",
    "    print('Dot Derivative', dot_derivative)\n",
    "    print('Naive Derivative', naive_derivative)\n"
   ]
  },
  {
   "cell_type": "code",
   "execution_count": 2,
   "id": "6a77e784",
   "metadata": {},
   "outputs": [
    {
     "data": {
      "text/plain": [
       "34.164547639869525"
      ]
     },
     "execution_count": 2,
     "metadata": {},
     "output_type": "execute_result"
    }
   ],
   "source": [
    "from pycalphad import Database, Model, variables as v\n",
    "from pycalphad.core.solver import Solver\n",
    "from pycalphad.codegen.callables import build_phase_records\n",
    "from pycalphad.core.utils import instantiate_models\n",
    "from pycalphad.codegen.sympydiff_utils import build_functions\n",
    "from pycalphad.core.composition_set import CompositionSet\n",
    "from pycalphad.core.minimizer import state_variable_differential, site_fraction_differential\n",
    "import numpy as np\n",
    "from pycalphad.core.equilibrium import dot_derivative\n",
    "\n",
    "dbf = Database('alfe_sei.TDB')\n",
    "comps = ['AL', 'FE', 'VA']\n",
    "mod = Model(dbf, comps, 'B2_BCC')\n",
    "starting_temp = float(1000)\n",
    "state_variables = {v.N, v.P, v.T}\n",
    "models = instantiate_models(dbf, comps, ['B2_BCC'])\n",
    "phase_records = build_phase_records(dbf, comps, ['B2_BCC'], state_variables, models)\n",
    "compset = CompositionSet(phase_records['B2_BCC'])\n",
    "compset.update(np.array([0.56819794, 0.43180206, 0.03180206, 0.96819794, 1]), 1.0, np.array([1, 1e5, starting_temp]))\n",
    "compsets = [compset]\n",
    "solver = Solver()\n",
    "spec = solver.get_system_spec(compsets, {'N': 1, 'T': starting_temp, 'P': 1e5, 'X_AL': 0.3})\n",
    "state = spec.get_new_state(compsets)\n",
    "converged = spec.run_loop(state, 1000)\n",
    "property_records = {}\n",
    "unique_phases = sorted(set(compset.phase_record.phase_name for compset in compsets))\n",
    "for phase_name in unique_phases:\n",
    "    property_records[phase_name] = build_functions(getattr(models[phase_name], property_of_interest),\n",
    "                                        sorted(state_variables, key=str) + models[phase_name].site_fractions,\n",
    "                                        include_grad=True)\n",
    "\n",
    "#testing the function results\n",
    "dot_derivative(spec, state, property_records)\n"
   ]
  },
  {
   "cell_type": "code",
   "execution_count": 3,
   "id": "675f18a0",
   "metadata": {},
   "outputs": [
    {
     "data": {
      "text/plain": [
       "'c:\\\\users\\\\aliciaxz\\\\pycalphad\\\\pycalphad\\\\__init__.py'"
      ]
     },
     "execution_count": 3,
     "metadata": {},
     "output_type": "execute_result"
    }
   ],
   "source": [
    "import pycalphad\n",
    "pycalphad.__file__"
   ]
  },
  {
   "cell_type": "code",
   "execution_count": 7,
   "id": "2f597d65-f5b4-46c5-b37e-0f03e69450a4",
   "metadata": {},
   "outputs": [
    {
     "data": {
      "image/png": "[encoded data removed]",
      "text/plain": [
       "<Figure size 432x288 with 1 Axes>"
      ]
     },
     "metadata": {
      "needs_background": "light"
     },
     "output_type": "display_data"
    }
   ],
   "source": [
    "from pycalphad import Database, equilibrium, variables as v\n",
    "from numpy import broadcast_to\n",
    "import numpy as np\n",
    "import matplotlib.pyplot as plt\n",
    "\n",
    "dbf = Database('alfe_sei.TDB')\n",
    "#equilibrium(..., output='H.T')\n",
    "# Plot CPM vs. T\n",
    "eq_T = equilibrium(dbf, ['AL', 'FE', 'VA'], 'B2_BCC', {v.P:101325, v.N: 1, v.T: (500, 1800, 5),\n",
    " v.X('AL'): 0.7}, calc_opts={'pdens': 5_000}, output=['heat_capacity', 'HM'])\n",
    "# Perform numerical derivative\n",
    "numerical_CPM = np.gradient(eq_T.HM.values.squeeze(), eq_T.T.values.squeeze())\n",
    "# Plot\n",
    "plt.plot(eq_T.T, eq_T.heat_capacity.values.squeeze(), label='Analytical CPM')\n",
    "plt.plot(eq_T.T, numerical_CPM, label='Numerical d(HM)/d(T)', ls='--')\n",
    "plt.ylabel('CPM')\n",
    "plt.xlabel('T')\n",
    "plt.title('X(AL)=0.7')\n",
    "plt.legend()\n",
    "plt.show()"
   ]
  },
  {
   "cell_type": "code",
   "execution_count": null,
   "id": "706a51d9-d684-4957-a1c0-c9c7adc7656b",
   "metadata": {},
   "outputs": [],
   "source": []
  }
 ],
 "metadata": {
  "kernelspec": {
   "display_name": "Python 3.9.13 ('calphad')",
   "language": "python",
   "name": "python3"
  },
  "language_info": {
   "codemirror_mode": {
    "name": "ipython",
    "version": 3
   },
   "file_extension": ".py",
   "mimetype": "text/x-python",
   "name": "python",
   "nbconvert_exporter": "python",
   "pygments_lexer": "ipython3",
   "version": "3.9.13"
  },
  "vscode": {
   "interpreter": {
    "hash": "3ce89e62247591a4a42044840e5074eddf2eb160757814c794a1db7fe87783c0"
   }
  }
 },
 "nbformat": 4,
 "nbformat_minor": 5
}
